{
 "cells": [
  {
   "cell_type": "code",
   "execution_count": null,
   "id": "5bf1dbba",
   "metadata": {},
   "outputs": [],
   "source": [
    "!pip install torch torchvision pillow\n"
   ]
  },
  {
   "cell_type": "code",
   "execution_count": null,
   "id": "c064efc2",
   "metadata": {},
   "outputs": [],
   "source": [
    "import torch\n",
    "import torchvision.transforms as transforms\n",
    "from PIL import Image\n",
    "\n",
    "# Load the pre-trained BigGAN model\n",
    "device = torch.device(\"cuda\" if torch.cuda.is_available() else \"cpu\")\n",
    "model = torch.hub.load('facebookresearch/BigGAN-PyTorch', 'biggan_deep_256').to(device)\n",
    "model.eval()\n",
    "\n",
    "# Define image transformation to normalize input\n",
    "transform = transforms.Compose([\n",
    "    transforms.Resize((256, 256)),\n",
    "    transforms.ToTensor(),\n",
    "    transforms.Normalize((0.5, 0.5, 0.5), (0.5, 0.5, 0.5))\n",
    "])\n",
    "\n",
    "# Function to generate image based on user input\n",
    "def generate_image(class_label):\n",
    "    with torch.no_grad():\n",
    "        # Convert class label to index\n",
    "        class_index = model.class_to_index[class_label]\n",
    "        \n",
    "        # Generate random noise vector\n",
    "        noise = torch.randn(1, 128).to(device)\n",
    "        \n",
    "        # Generate image from noise vector and class index\n",
    "        output = model(noise, class_index).cpu().detach().squeeze().permute(1, 2, 0)\n",
    "        \n",
    "        # Denormalize and convert to image\n",
    "        output = ((output + 1) / 2 * 255).clamp(0, 255).numpy().astype('uint8')\n",
    "        image = Image.fromarray(output)\n",
    "        \n",
    "        return image\n",
    "\n",
    "# Main function\n",
    "def main():\n",
    "    # Ask user to input class label\n",
    "    class_label = input(\"Enter class label (e.g., 'dog', 'cat', 'car'): \")\n",
    "    \n",
    "    # Generate image based on user input\n",
    "    image = generate_image(class_label)\n",
    "    \n",
    "    # Display the generated image\n",
    "    image.show()\n",
    "\n",
    "if __name__ == \"__main__\":\n",
    "    main()\n"
   ]
  }
 ],
 "metadata": {
  "kernelspec": {
   "display_name": "Python 3",
   "language": "python",
   "name": "python3"
  },
  "language_info": {
   "codemirror_mode": {
    "name": "ipython",
    "version": 3
   },
   "file_extension": ".py",
   "mimetype": "text/x-python",
   "name": "python",
   "nbconvert_exporter": "python",
   "pygments_lexer": "ipython3",
   "version": "3.8.10"
  }
 },
 "nbformat": 4,
 "nbformat_minor": 5
}
